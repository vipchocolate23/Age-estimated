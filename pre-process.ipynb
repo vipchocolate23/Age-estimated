{
 "cells": [
  {
   "cell_type": "code",
   "execution_count": 1,
   "id": "5e1f2400",
   "metadata": {},
   "outputs": [],
   "source": [
    "import numpy as np\n",
    "import cv2\n",
    "from PIL import Image\n",
    "from os import listdir\n",
    "import os\n",
    "import matplotlib.pyplot as plt"
   ]
  },
  {
   "cell_type": "code",
   "execution_count": 2,
   "id": "b76c7c41",
   "metadata": {},
   "outputs": [],
   "source": [
    "face_cascade = cv2.CascadeClassifier('haarcascade_frontalface_default.xml')"
   ]
  },
  {
   "cell_type": "code",
   "execution_count": 3,
   "id": "16b186c0",
   "metadata": {},
   "outputs": [
    {
     "name": "stdout",
     "output_type": "stream",
     "text": [
      "Total samples: 24108\n",
      "100_0_0_20170112213500903.jpg\n"
     ]
    }
   ],
   "source": [
    "path = \"Full/\"\n",
    "files = os.listdir(path)\n",
    "size = len(files)\n",
    "print(\"Total samples:\",size)\n",
    "print(files[0])"
   ]
  },
  {
   "cell_type": "code",
   "execution_count": 4,
   "id": "9acb9e48",
   "metadata": {},
   "outputs": [],
   "source": [
    "images = []\n",
    "ages = []\n",
    "genders = []\n",
    "races = []\n",
    "for file in files:\n",
    "    image = cv2.imread(path+file)\n",
    "    faces = face_cascade.detectMultiScale(image, 1.3, 5)\n",
    "    if len(faces) > 0:\n",
    "        for (x, y, w, h) in faces:\n",
    "            \n",
    "            detected_face = image[int(y):int(y + h), int(x):int(x + w)]\n",
    "            detected_face = cv2.resize(detected_face, dsize=(112,112))\n",
    "        images.append(detected_face)\n",
    "        split_var = file.split('_')\n",
    "    try:\n",
    "        races.append(int(split_var[2]))\n",
    "        ages.append(int(split_var[0]))\n",
    "        genders.append(int(split_var[1]))\n",
    "        images.append(image)\n",
    "    except:\n",
    "        pass\n",
    "        "
   ]
  },
  {
   "cell_type": "code",
   "execution_count": 5,
   "id": "0c4b845e",
   "metadata": {},
   "outputs": [
    {
     "data": {
      "text/plain": [
       "(19912, 19912)"
      ]
     },
     "execution_count": 5,
     "metadata": {},
     "output_type": "execute_result"
    }
   ],
   "source": [
    "len(ages), len(images)"
   ]
  },
  {
   "cell_type": "code",
   "execution_count": 6,
   "id": "edfbec1c",
   "metadata": {},
   "outputs": [
    {
     "data": {
      "image/png": "[encoded data removed]",
      "text/plain": [
       "<Figure size 432x288 with 1 Axes>"
      ]
     },
     "metadata": {
      "needs_background": "light"
     },
     "output_type": "display_data"
    },
    {
     "name": "stdout",
     "output_type": "stream",
     "text": [
      "Max value: 116\n"
     ]
    }
   ],
   "source": [
    "x_ages = list(set(ages))\n",
    "y_ages = [ages.count(i) for i in x_ages]\n",
    "plt.bar(x_ages,y_ages)\n",
    "plt.show()\n",
    "print(\"Max value:\",max(ages))"
   ]
  },
  {
   "cell_type": "code",
   "execution_count": 7,
   "id": "7cd710a5",
   "metadata": {},
   "outputs": [],
   "source": [
    "images = np.array(images,dtype='float32')\n",
    "ages = np.array(ages,dtype = 'float32')"
   ]
  },
  {
   "cell_type": "code",
   "execution_count": null,
   "id": "e9106088",
   "metadata": {},
   "outputs": [],
   "source": [
    "images = images.astype('float32')\n",
    "images /= 255.0"
   ]
  },
  {
   "cell_type": "code",
   "execution_count": null,
   "id": "e46526aa",
   "metadata": {},
   "outputs": [],
   "source": [
    "def age_group(age):\n",
    "    if age >= 0 and age < 18:\n",
    "        return 0\n",
    "    elif age >= 18 and age < 30:\n",
    "        return 1\n",
    "    elif age >= 30 and age < 60:\n",
    "        return 2\n",
    "    else:\n",
    "        return 3\n",
    "    \n",
    "for i in range(len(ages)):\n",
    "    ages[i] = age_group(int(ages[i]))"
   ]
  },
  {
   "cell_type": "code",
   "execution_count": null,
   "id": "09324640",
   "metadata": {},
   "outputs": [],
   "source": [
    "ages = np_utils.to_categorical(ages, 4)\n",
    "genders = np_utils.to_categorical(genders, 2)\n",
    "races = np_utils.to_categorical(races, 5)"
   ]
  },
  {
   "cell_type": "code",
   "execution_count": null,
   "id": "9e9936c8",
   "metadata": {},
   "outputs": [],
   "source": [
    "np.save('images.npy', images)\n",
    "np.save('ages.npy', ages)\n",
    "np.save('genders.npy', genders)\n",
    "np.save('races.npy', races)"
   ]
  },
  {
   "cell_type": "code",
   "execution_count": null,
   "id": "1daebc74",
   "metadata": {},
   "outputs": [],
   "source": []
  }
 ],
 "metadata": {
  "kernelspec": {
   "display_name": "Python 3 (ipykernel)",
   "language": "python",
   "name": "python3"
  },
  "language_info": {
   "codemirror_mode": {
    "name": "ipython",
    "version": 3
   },
   "file_extension": ".py",
   "mimetype": "text/x-python",
   "name": "python",
   "nbconvert_exporter": "python",
   "pygments_lexer": "ipython3",
   "version": "3.9.7"
  }
 },
 "nbformat": 4,
 "nbformat_minor": 5
}
