{
 "cells": [
  {
   "cell_type": "code",
   "execution_count": null,
   "metadata": {
    "_cell_guid": "b1076dfc-b9ad-4769-8c92-a6c4dae69d19",
    "_uuid": "8f2839f25d086af736a60e9eeb907d3b93b6e0e5",
    "execution": {
     "iopub.execute_input": "2022-03-16T13:13:44.000012Z",
     "iopub.status.busy": "2022-03-16T13:13:43.999793Z",
     "iopub.status.idle": "2022-03-16T13:13:50.162961Z",
     "shell.execute_reply": "2022-03-16T13:13:50.162147Z",
     "shell.execute_reply.started": "2022-03-16T13:13:43.999972Z"
    }
   },
   "outputs": [],
   "source": [
    "import numpy as np\n",
    "import pandas as pd\n",
    "import os\n",
    "import cv2\n",
    "from PIL import Image\n",
    "import keras\n",
    "from keras.models import Model, Sequential\n",
    "from keras.utils import np_utils\n",
    "from tensorflow.keras import optimizers\n",
    "import tensorflow as tf\n",
    "from tensorflow.keras import applications\n",
    "from keras.preprocessing.image import ImageDataGenerator\n",
    "from sklearn.model_selection import train_test_split\n",
    "from tensorflow.keras import applications\n",
    "from keras.layers import Add, Dense, Activation, Dropout, Flatten, Input, Convolution2D, ZeroPadding2D, MaxPooling2D, Activation, concatenate, BatchNormalization, Concatenate\n",
    "from keras.utils import np_utils\n",
    "from keras.callbacks import ModelCheckpoint, EarlyStopping, ReduceLROnPlateau\n",
    "import matplotlib.pyplot as plt"
   ]
  },
  {
   "cell_type": "code",
   "execution_count": null,
   "metadata": {
    "execution": {
     "iopub.execute_input": "2022-03-16T13:13:50.164904Z",
     "iopub.status.busy": "2022-03-16T13:13:50.164656Z",
     "iopub.status.idle": "2022-03-16T13:13:50.462508Z",
     "shell.execute_reply": "2022-03-16T13:13:50.461687Z",
     "shell.execute_reply.started": "2022-03-16T13:13:50.16487Z"
    }
   },
   "outputs": [],
   "source": [
    "path = \"/kaggle/input/utkfacefull/\""
   ]
  },
  {
   "cell_type": "code",
   "execution_count": null,
   "metadata": {
    "execution": {
     "iopub.execute_input": "2022-03-16T13:13:50.464062Z",
     "iopub.status.busy": "2022-03-16T13:13:50.463713Z",
     "iopub.status.idle": "2022-03-16T13:15:46.719887Z",
     "shell.execute_reply": "2022-03-16T13:15:46.71914Z",
     "shell.execute_reply.started": "2022-03-16T13:13:50.464024Z"
    }
   },
   "outputs": [],
   "source": [
    "images = np.load(path+'images.npy')\n",
    "ages = np.load(path+'ages.npy')\n",
    "genders = np.load(path+'genders.npy')\n",
    "races = np.load(path+'races.npy')"
   ]
  },
  {
   "cell_type": "code",
   "execution_count": null,
   "metadata": {
    "execution": {
     "iopub.execute_input": "2022-03-16T13:15:48.771904Z",
     "iopub.status.busy": "2022-03-16T13:15:48.771623Z",
     "iopub.status.idle": "2022-03-16T13:15:51.266776Z",
     "shell.execute_reply": "2022-03-16T13:15:51.266035Z",
     "shell.execute_reply.started": "2022-03-16T13:15:48.771868Z"
    }
   },
   "outputs": [],
   "source": [
    "images_train, images_test, ages_train, ages_test = train_test_split(images, ages,\n",
    "                                                    test_size=0.3, \n",
    "                                                    random_state=42, \n",
    "                                                    shuffle=True)\n",
    "images_train, images_test, genders_train, genders_test = train_test_split(images, genders,\n",
    "                                                    test_size=0.3, \n",
    "                                                    random_state=42, \n",
    "                                                    shuffle=True)\n",
    "images_train, images_test, races_train, races_test = train_test_split(images, races,\n",
    "                                                    test_size=0.3, \n",
    "                                                    random_state=42, \n",
    "                                                    shuffle=True)"
   ]
  },
  {
   "cell_type": "code",
   "execution_count": null,
   "metadata": {
    "execution": {
     "iopub.execute_input": "2022-03-16T13:15:51.268512Z",
     "iopub.status.busy": "2022-03-16T13:15:51.268263Z",
     "iopub.status.idle": "2022-03-16T13:15:51.497678Z",
     "shell.execute_reply": "2022-03-16T13:15:51.497034Z",
     "shell.execute_reply.started": "2022-03-16T13:15:51.26848Z"
    }
   },
   "outputs": [],
   "source": [
    "plt.imshow(images_test[0][:,:,::-1]), ages_test[0], genders_test[0], races_test[0]"
   ]
  },
  {
   "cell_type": "code",
   "execution_count": null,
   "metadata": {
    "execution": {
     "iopub.execute_input": "2022-03-16T13:15:51.498889Z",
     "iopub.status.busy": "2022-03-16T13:15:51.498637Z",
     "iopub.status.idle": "2022-03-16T13:15:51.503512Z",
     "shell.execute_reply": "2022-03-16T13:15:51.502804Z",
     "shell.execute_reply.started": "2022-03-16T13:15:51.498854Z"
    }
   },
   "outputs": [],
   "source": [
    "#data argument\n",
    "train_datagen = ImageDataGenerator(\n",
    "    rotation_range=45,\n",
    "    zoom_range = [0.8,1.25],\n",
    "    horizontal_flip = True)"
   ]
  },
  {
   "cell_type": "code",
   "execution_count": null,
   "metadata": {
    "execution": {
     "iopub.execute_input": "2022-03-16T13:15:51.505331Z",
     "iopub.status.busy": "2022-03-16T13:15:51.50488Z",
     "iopub.status.idle": "2022-03-16T13:15:51.513943Z",
     "shell.execute_reply": "2022-03-16T13:15:51.51316Z",
     "shell.execute_reply.started": "2022-03-16T13:15:51.505296Z"
    }
   },
   "outputs": [],
   "source": [
    "early_stopping = EarlyStopping( patience=7, # wait for 7 epochs\n",
    "                                min_delta = 0.01, # if in 7 epochs the loss function doesn't inrease (for accuracy) \n",
    "                                               # or decrease (for val_loss) by 1%, then stop\n",
    "                                verbose=1, # print the training epoch on which training was stopped\n",
    "                                mode = 'min',\n",
    "                                monitor='val_loss')\n",
    "reduce_learning_rate = ReduceLROnPlateau(\n",
    "                                monitor=\"val_loss\",\n",
    "                                patience=5, # if val_loss plateaus for 3 epochs such that it doesn't see \n",
    "                                            # an improvement of size = epsilon\n",
    "                                episilon= 0.01,\n",
    "                                factor=0.1,  # then we reduce the learning rate by a factor of 0.1\n",
    "                                cooldown = 4, # and we wait for 4 epochs before we restart again\n",
    "                                verbose=1)\n",
    "# hyperparameters\n",
    "lr = 0.01\n",
    "epochs = 50 # setting it to a low number since this is for Kaggle, ideally you should set this to a higher number ~ 100 so that the model overfits training data, and then apply the elbow methods to select the best params on validaion data\n",
    "batch_size = 16\n",
    "input_shape =[100,100]"
   ]
  },
  {
   "cell_type": "markdown",
   "metadata": {},
   "source": [
    "# **Create VGG16 model as base_model**"
   ]
  },
  {
   "cell_type": "code",
   "execution_count": null,
   "metadata": {
    "execution": {
     "iopub.execute_input": "2022-03-16T13:15:51.515589Z",
     "iopub.status.busy": "2022-03-16T13:15:51.515328Z",
     "iopub.status.idle": "2022-03-16T13:15:54.395927Z",
     "shell.execute_reply": "2022-03-16T13:15:54.395203Z",
     "shell.execute_reply.started": "2022-03-16T13:15:51.515555Z"
    }
   },
   "outputs": [],
   "source": [
    "inputs = Input(shape=(input_shape[0],input_shape[1], 3))\n",
    "base_model = applications.vgg16.VGG16(weights = \"imagenet\", include_top=False, input_tensor = inputs)\n",
    "base_model_output = base_model.output\n",
    "\n",
    "for layer in base_model.layers:\n",
    "   layer.trainable = False\n",
    "# base_model.summary()\n",
    "\n",
    "\n",
    "# base_model_input = Input(shape=(input_shape[0],input_shape[1],3))\n",
    "# base_model = Convolution2D(filters=64, kernel_size=(3,3),padding='same', activation='relu')(base_model_input)\n",
    "# base_model = Convolution2D(filters=64, kernel_size=(3,3),padding='same', activation='relu')(base_model)\n",
    "# base_model = MaxPooling2D((2, 2), strides=(2, 2))(base_model)\n",
    "\n",
    "# base_model = Convolution2D(filters=128, kernel_size=(3,3),padding='same', activation='relu')(base_model)\n",
    "# base_model = Convolution2D(filters=128, kernel_size=(3,3),padding='same', activation='relu')(base_model)\n",
    "# base_model = MaxPooling2D((2, 2), strides=(2, 2))(base_model)\n",
    "\n",
    "# base_model = Convolution2D(filters=256, kernel_size=(3,3),padding='same', activation='relu')(base_model)\n",
    "# base_model = Convolution2D(filters=256, kernel_size=(3,3),padding='same', activation='relu')(base_model)\n",
    "# base_model = Convolution2D(filters=256, kernel_size=(3,3),padding='same', activation='relu')(base_model)\n",
    "# base_model = MaxPooling2D((2, 2), strides=(2, 2))(base_model)\n",
    "\n",
    "# base_model = Convolution2D(filters=512, kernel_size=(3,3),padding='same', activation='relu')(base_model)\n",
    "# base_model = Convolution2D(filters=512, kernel_size=(3,3),padding='same', activation='relu')(base_model)\n",
    "# base_model = Convolution2D(filters=512, kernel_size=(3,3),padding='same', activation='relu')(base_model)\n",
    "# base_model = MaxPooling2D((2, 2), strides=(2, 2))(base_model)\n",
    "\n",
    "# base_model = Convolution2D(filters=512, kernel_size=(3,3),padding='same', activation='relu')(base_model)\n",
    "# base_model = Convolution2D(filters=512, kernel_size=(3,3),padding='same', activation='relu')(base_model)\n",
    "# base_model = Convolution2D(filters=512, kernel_size=(3,3),padding='same', activation='relu')(base_model)\n",
    "# base_model = MaxPooling2D((2, 2), strides=(2, 2))(base_model)\n",
    "# base_model = keras.models.load_model('/kaggle/input/vgg-weights/vgg_face_weights.h5')"
   ]
  },
  {
   "cell_type": "markdown",
   "metadata": {},
   "source": [
    "**Train the Age model**"
   ]
  },
  {
   "cell_type": "code",
   "execution_count": null,
   "metadata": {
    "execution": {
     "iopub.execute_input": "2022-03-16T13:15:54.397716Z",
     "iopub.status.busy": "2022-03-16T13:15:54.397275Z",
     "iopub.status.idle": "2022-03-16T13:15:54.430345Z",
     "shell.execute_reply": "2022-03-16T13:15:54.429645Z",
     "shell.execute_reply.started": "2022-03-16T13:15:54.397674Z"
    }
   },
   "outputs": [],
   "source": [
    "age = Flatten()(base_model_output)\n",
    "age = Dense(4096,activation=\"relu\")(age)\n",
    "age = Dropout(0.5)(age)\n",
    "age = Dense(4096,activation=\"relu\")(age)\n",
    "age_output = Dense(4, activation='softmax')(age)"
   ]
  },
  {
   "cell_type": "code",
   "execution_count": null,
   "metadata": {
    "execution": {
     "iopub.execute_input": "2022-03-16T13:15:54.431862Z",
     "iopub.status.busy": "2022-03-16T13:15:54.431624Z",
     "iopub.status.idle": "2022-03-16T13:15:54.441398Z",
     "shell.execute_reply": "2022-03-16T13:15:54.440666Z",
     "shell.execute_reply.started": "2022-03-16T13:15:54.431832Z"
    }
   },
   "outputs": [],
   "source": [
    "age_model = Model(inputs=inputs, outputs=age_output)"
   ]
  },
  {
   "cell_type": "code",
   "execution_count": null,
   "metadata": {
    "execution": {
     "iopub.execute_input": "2022-03-16T13:15:54.444242Z",
     "iopub.status.busy": "2022-03-16T13:15:54.443906Z",
     "iopub.status.idle": "2022-03-16T13:15:56.493753Z",
     "shell.execute_reply": "2022-03-16T13:15:56.493037Z",
     "shell.execute_reply.started": "2022-03-16T13:15:54.444211Z"
    }
   },
   "outputs": [],
   "source": [
    "age_model.load_weights(\"/kaggle/input/vgg-weights/age_model.h5\")"
   ]
  },
  {
   "cell_type": "code",
   "execution_count": null,
   "metadata": {
    "execution": {
     "iopub.execute_input": "2022-03-16T13:15:56.495103Z",
     "iopub.status.busy": "2022-03-16T13:15:56.494829Z",
     "iopub.status.idle": "2022-03-16T13:15:56.51079Z",
     "shell.execute_reply": "2022-03-16T13:15:56.510165Z",
     "shell.execute_reply.started": "2022-03-16T13:15:56.495069Z"
    }
   },
   "outputs": [],
   "source": [
    "age_model.compile(optimizer = 'adam', loss = 'categorical_crossentropy', metrics=['accuracy'])"
   ]
  },
  {
   "cell_type": "code",
   "execution_count": null,
   "metadata": {
    "execution": {
     "iopub.execute_input": "2022-03-16T03:45:54.680742Z",
     "iopub.status.busy": "2022-03-16T03:45:54.68047Z",
     "iopub.status.idle": "2022-03-16T04:18:43.847084Z",
     "shell.execute_reply": "2022-03-16T04:18:43.846403Z",
     "shell.execute_reply.started": "2022-03-16T03:45:54.680699Z"
    }
   },
   "outputs": [],
   "source": [
    "# age_model.fit_generator(train_datagen.flow(images_train,ages_train,\n",
    "#                              batch_size = batch_size),\n",
    "#                   epochs=epochs,\n",
    "#                   steps_per_epoch=images_train.shape[0] // batch_size,\n",
    "# #                   verbose=True,\n",
    "#                   validation_data=(images_test, ages_test),\n",
    "#                   callbacks=[reduce_learning_rate,\n",
    "#                              early_stopping])"
   ]
  },
  {
   "cell_type": "code",
   "execution_count": null,
   "metadata": {
    "execution": {
     "iopub.execute_input": "2022-03-16T13:15:56.51242Z",
     "iopub.status.busy": "2022-03-16T13:15:56.511822Z",
     "iopub.status.idle": "2022-03-16T13:16:09.17851Z",
     "shell.execute_reply": "2022-03-16T13:16:09.177785Z",
     "shell.execute_reply.started": "2022-03-16T13:15:56.512382Z"
    }
   },
   "outputs": [],
   "source": [
    "age_model.evaluate(images_test, ages_test)"
   ]
  },
  {
   "cell_type": "code",
   "execution_count": null,
   "metadata": {
    "execution": {
     "iopub.execute_input": "2022-03-16T04:31:05.807434Z",
     "iopub.status.busy": "2022-03-16T04:31:05.806868Z",
     "iopub.status.idle": "2022-03-16T04:31:06.507926Z",
     "shell.execute_reply": "2022-03-16T04:31:06.507155Z",
     "shell.execute_reply.started": "2022-03-16T04:31:05.807396Z"
    }
   },
   "outputs": [],
   "source": [
    "# age_model.save('age_model.h5')"
   ]
  },
  {
   "cell_type": "markdown",
   "metadata": {},
   "source": [
    "**Train the Gender model**"
   ]
  },
  {
   "cell_type": "code",
   "execution_count": null,
   "metadata": {
    "execution": {
     "iopub.execute_input": "2022-03-16T11:32:33.227652Z",
     "iopub.status.busy": "2022-03-16T11:32:33.224605Z",
     "iopub.status.idle": "2022-03-16T11:32:33.280224Z",
     "shell.execute_reply": "2022-03-16T11:32:33.279289Z",
     "shell.execute_reply.started": "2022-03-16T11:32:33.227581Z"
    }
   },
   "outputs": [],
   "source": [
    "gender = Flatten()(base_model_output)\n",
    "gender = Dense(4096,activation=\"relu\")(gender)\n",
    "gender = Dropout(0.5)(gender)\n",
    "gender = Dense(2048,activation=\"relu\")(gender)\n",
    "gender_output = Dense(2, activation='sigmoid')(gender)"
   ]
  },
  {
   "cell_type": "code",
   "execution_count": null,
   "metadata": {
    "execution": {
     "iopub.execute_input": "2022-03-16T11:32:33.287152Z",
     "iopub.status.busy": "2022-03-16T11:32:33.284708Z",
     "iopub.status.idle": "2022-03-16T11:32:33.298951Z",
     "shell.execute_reply": "2022-03-16T11:32:33.29803Z",
     "shell.execute_reply.started": "2022-03-16T11:32:33.287115Z"
    }
   },
   "outputs": [],
   "source": [
    "gender_model = Model(inputs=inputs, outputs=gender_output)"
   ]
  },
  {
   "cell_type": "code",
   "execution_count": null,
   "metadata": {
    "execution": {
     "iopub.execute_input": "2022-03-16T11:32:33.306098Z",
     "iopub.status.busy": "2022-03-16T11:32:33.303626Z",
     "iopub.status.idle": "2022-03-16T11:32:34.487201Z",
     "shell.execute_reply": "2022-03-16T11:32:34.486155Z",
     "shell.execute_reply.started": "2022-03-16T11:32:33.30606Z"
    }
   },
   "outputs": [],
   "source": [
    "gender_model.load_weights(\"/kaggle/input/vgg-weights/gender_model.h5\")"
   ]
  },
  {
   "cell_type": "code",
   "execution_count": null,
   "metadata": {
    "execution": {
     "iopub.execute_input": "2022-03-16T07:52:27.476607Z",
     "iopub.status.busy": "2022-03-16T07:52:27.476056Z",
     "iopub.status.idle": "2022-03-16T07:52:27.486438Z",
     "shell.execute_reply": "2022-03-16T07:52:27.485751Z",
     "shell.execute_reply.started": "2022-03-16T07:52:27.476571Z"
    }
   },
   "outputs": [],
   "source": [
    "# gender_model.compile(optimizer = 'adam', loss = 'binary_crossentropy', metrics=['accuracy'])"
   ]
  },
  {
   "cell_type": "code",
   "execution_count": null,
   "metadata": {
    "execution": {
     "iopub.execute_input": "2022-03-16T04:36:43.816214Z",
     "iopub.status.busy": "2022-03-16T04:36:43.815952Z",
     "iopub.status.idle": "2022-03-16T04:52:53.963305Z",
     "shell.execute_reply": "2022-03-16T04:52:53.962636Z",
     "shell.execute_reply.started": "2022-03-16T04:36:43.816188Z"
    }
   },
   "outputs": [],
   "source": [
    "# gender_model.fit_generator(train_datagen.flow(images_train,genders_train,\n",
    "#                              batch_size = batch_size),\n",
    "#                   epochs=epochs,\n",
    "#                   steps_per_epoch=images_train.shape[0] // batch_size,\n",
    "# #                   verbose=True,\n",
    "#                   validation_data=(images_test, genders_test),\n",
    "#                   callbacks=[reduce_learning_rate,\n",
    "#                              early_stopping])"
   ]
  },
  {
   "cell_type": "code",
   "execution_count": null,
   "metadata": {
    "execution": {
     "iopub.execute_input": "2022-03-16T07:52:49.745252Z",
     "iopub.status.busy": "2022-03-16T07:52:49.744783Z",
     "iopub.status.idle": "2022-03-16T07:52:55.803893Z",
     "shell.execute_reply": "2022-03-16T07:52:55.803217Z",
     "shell.execute_reply.started": "2022-03-16T07:52:49.745214Z"
    }
   },
   "outputs": [],
   "source": [
    "gender_model.evaluate(images_test, genders_test)"
   ]
  },
  {
   "cell_type": "code",
   "execution_count": null,
   "metadata": {
    "execution": {
     "iopub.execute_input": "2022-03-16T04:55:06.768201Z",
     "iopub.status.busy": "2022-03-16T04:55:06.767944Z",
     "iopub.status.idle": "2022-03-16T04:55:07.387826Z",
     "shell.execute_reply": "2022-03-16T04:55:07.386883Z",
     "shell.execute_reply.started": "2022-03-16T04:55:06.768173Z"
    }
   },
   "outputs": [],
   "source": [
    "# gender_model.save('gender_model.h5')"
   ]
  },
  {
   "cell_type": "markdown",
   "metadata": {},
   "source": [
    "**Train the Race model**"
   ]
  },
  {
   "cell_type": "code",
   "execution_count": null,
   "metadata": {
    "execution": {
     "iopub.execute_input": "2022-03-16T11:32:46.273643Z",
     "iopub.status.busy": "2022-03-16T11:32:46.273389Z",
     "iopub.status.idle": "2022-03-16T11:32:46.302919Z",
     "shell.execute_reply": "2022-03-16T11:32:46.302257Z",
     "shell.execute_reply.started": "2022-03-16T11:32:46.273614Z"
    }
   },
   "outputs": [],
   "source": [
    "race = Flatten()(base_model_output)\n",
    "race = Dense(4096,activation=\"relu\")(race)\n",
    "race = Dropout(0.5)(race)\n",
    "race = Dense(2048,activation=\"relu\")(race)\n",
    "race_output = Dense(5, activation='softmax')(race)"
   ]
  },
  {
   "cell_type": "code",
   "execution_count": null,
   "metadata": {
    "execution": {
     "iopub.execute_input": "2022-03-16T11:32:47.694557Z",
     "iopub.status.busy": "2022-03-16T11:32:47.694305Z",
     "iopub.status.idle": "2022-03-16T11:32:47.70385Z",
     "shell.execute_reply": "2022-03-16T11:32:47.70291Z",
     "shell.execute_reply.started": "2022-03-16T11:32:47.694528Z"
    }
   },
   "outputs": [],
   "source": [
    "race_model = Model(inputs=inputs, outputs=race_output)"
   ]
  },
  {
   "cell_type": "code",
   "execution_count": null,
   "metadata": {
    "execution": {
     "iopub.execute_input": "2022-03-16T11:32:50.315725Z",
     "iopub.status.busy": "2022-03-16T11:32:50.315471Z",
     "iopub.status.idle": "2022-03-16T11:32:52.278545Z",
     "shell.execute_reply": "2022-03-16T11:32:52.2778Z",
     "shell.execute_reply.started": "2022-03-16T11:32:50.315695Z"
    }
   },
   "outputs": [],
   "source": [
    "race_model.load_weights(\"/kaggle/input/vgg-weights/race_model.h5\")"
   ]
  },
  {
   "cell_type": "code",
   "execution_count": null,
   "metadata": {
    "execution": {
     "iopub.execute_input": "2022-03-16T07:55:04.073107Z",
     "iopub.status.busy": "2022-03-16T07:55:04.072459Z",
     "iopub.status.idle": "2022-03-16T07:55:04.084462Z",
     "shell.execute_reply": "2022-03-16T07:55:04.083628Z",
     "shell.execute_reply.started": "2022-03-16T07:55:04.073068Z"
    }
   },
   "outputs": [],
   "source": [
    "# race_model.compile(optimizer = 'adam', loss = 'categorical_crossentropy', metrics=['accuracy'])"
   ]
  },
  {
   "cell_type": "code",
   "execution_count": null,
   "metadata": {
    "execution": {
     "iopub.execute_input": "2022-03-16T07:55:32.770438Z",
     "iopub.status.busy": "2022-03-16T07:55:32.77007Z",
     "iopub.status.idle": "2022-03-16T08:19:30.786244Z",
     "shell.execute_reply": "2022-03-16T08:19:30.785525Z",
     "shell.execute_reply.started": "2022-03-16T07:55:32.770395Z"
    }
   },
   "outputs": [],
   "source": [
    "# race_model.fit_generator(train_datagen.flow(images_train,races_train,\n",
    "#                              batch_size = batch_size),\n",
    "#                   epochs=epochs,\n",
    "#                   steps_per_epoch=images_train.shape[0] // batch_size,\n",
    "# #                   verbose=True,\n",
    "#                   validation_data=(images_test, races_test),\n",
    "#                   callbacks=[reduce_learning_rate,\n",
    "#                              early_stopping])"
   ]
  },
  {
   "cell_type": "code",
   "execution_count": null,
   "metadata": {
    "execution": {
     "iopub.execute_input": "2022-03-16T08:20:46.700365Z",
     "iopub.status.busy": "2022-03-16T08:20:46.700081Z",
     "iopub.status.idle": "2022-03-16T08:20:53.315365Z",
     "shell.execute_reply": "2022-03-16T08:20:53.314669Z",
     "shell.execute_reply.started": "2022-03-16T08:20:46.700329Z"
    }
   },
   "outputs": [],
   "source": [
    "race_model.evaluate(images_test, races_test)"
   ]
  },
  {
   "cell_type": "code",
   "execution_count": null,
   "metadata": {
    "execution": {
     "iopub.execute_input": "2022-03-16T08:21:12.863205Z",
     "iopub.status.busy": "2022-03-16T08:21:12.862558Z",
     "iopub.status.idle": "2022-03-16T08:21:13.393137Z",
     "shell.execute_reply": "2022-03-16T08:21:13.392002Z",
     "shell.execute_reply.started": "2022-03-16T08:21:12.863165Z"
    }
   },
   "outputs": [],
   "source": [
    "# race_model.save('race_model.h5')"
   ]
  },
  {
   "cell_type": "markdown",
   "metadata": {},
   "source": [
    "**Create combined model**"
   ]
  },
  {
   "cell_type": "code",
   "execution_count": null,
   "metadata": {
    "execution": {
     "iopub.execute_input": "2022-03-16T11:33:22.540209Z",
     "iopub.status.busy": "2022-03-16T11:33:22.53972Z",
     "iopub.status.idle": "2022-03-16T11:33:22.551606Z",
     "shell.execute_reply": "2022-03-16T11:33:22.550978Z",
     "shell.execute_reply.started": "2022-03-16T11:33:22.540166Z"
    }
   },
   "outputs": [],
   "source": [
    "for layer in age_model.layers:\n",
    "    layer.trainable = False\n",
    "for layer in gender_model.layers:\n",
    "    layer.trainable = False\n",
    "for layer in race_model.layers:\n",
    "    layer.trainable = False"
   ]
  },
  {
   "cell_type": "code",
   "execution_count": null,
   "metadata": {
    "execution": {
     "iopub.execute_input": "2022-03-16T11:33:23.851665Z",
     "iopub.status.busy": "2022-03-16T11:33:23.851008Z",
     "iopub.status.idle": "2022-03-16T11:33:24.025082Z",
     "shell.execute_reply": "2022-03-16T11:33:24.024419Z",
     "shell.execute_reply.started": "2022-03-16T11:33:23.851625Z"
    }
   },
   "outputs": [],
   "source": [
    "# The combined model\n",
    "combined_model_input = Input(shape=(input_shape[0],input_shape[1], 3))\n",
    "age_predict = age_model(combined_model_input)\n",
    "gender_predict = gender_model(combined_model_input)\n",
    "race_predict = race_model(combined_model_input)\n",
    "final = concatenate([age_predict,gender_predict,race_predict])\n",
    "final = Dense(1024, activation = \"relu\")(final)\n",
    "final = Dropout(0.3)(final)\n",
    "final_output = Dense(4, activation = \"softmax\")(final)"
   ]
  },
  {
   "cell_type": "code",
   "execution_count": null,
   "metadata": {
    "execution": {
     "iopub.execute_input": "2022-03-16T11:33:38.035525Z",
     "iopub.status.busy": "2022-03-16T11:33:38.034894Z",
     "iopub.status.idle": "2022-03-16T11:33:38.044379Z",
     "shell.execute_reply": "2022-03-16T11:33:38.043616Z",
     "shell.execute_reply.started": "2022-03-16T11:33:38.035482Z"
    }
   },
   "outputs": [],
   "source": [
    "final = Model(inputs=combined_model_input, outputs=final_output)"
   ]
  },
  {
   "cell_type": "code",
   "execution_count": null,
   "metadata": {
    "execution": {
     "iopub.execute_input": "2022-03-16T11:33:50.135556Z",
     "iopub.status.busy": "2022-03-16T11:33:50.135291Z",
     "iopub.status.idle": "2022-03-16T11:33:54.421398Z",
     "shell.execute_reply": "2022-03-16T11:33:54.420639Z",
     "shell.execute_reply.started": "2022-03-16T11:33:50.135526Z"
    }
   },
   "outputs": [],
   "source": [
    "final.load_weights(\"/kaggle/input/vgg-weights/model.h5\")"
   ]
  },
  {
   "cell_type": "code",
   "execution_count": null,
   "metadata": {
    "execution": {
     "iopub.execute_input": "2022-03-16T11:34:28.143352Z",
     "iopub.status.busy": "2022-03-16T11:34:28.142813Z",
     "iopub.status.idle": "2022-03-16T11:34:28.162263Z",
     "shell.execute_reply": "2022-03-16T11:34:28.161431Z",
     "shell.execute_reply.started": "2022-03-16T11:34:28.143313Z"
    }
   },
   "outputs": [],
   "source": [
    "final.compile(optimizer = 'adam', loss = 'categorical_crossentropy', metrics=['accuracy'])"
   ]
  },
  {
   "cell_type": "code",
   "execution_count": null,
   "metadata": {
    "execution": {
     "iopub.execute_input": "2022-03-16T08:33:31.960291Z",
     "iopub.status.busy": "2022-03-16T08:33:31.960045Z",
     "iopub.status.idle": "2022-03-16T08:43:23.681691Z",
     "shell.execute_reply": "2022-03-16T08:43:23.68102Z",
     "shell.execute_reply.started": "2022-03-16T08:33:31.960264Z"
    }
   },
   "outputs": [],
   "source": [
    "# final.fit_generator(train_datagen.flow(images_train,ages_train,\n",
    "#                              batch_size = batch_size),\n",
    "#                           epochs=epochs,\n",
    "#                           steps_per_epoch=images_train.shape[0] // batch_size,\n",
    "#         #                   verbose=True,\n",
    "#                           validation_data=(images_test, ages_test),\n",
    "#                           callbacks=[reduce_learning_rate,\n",
    "#                                      early_stopping])"
   ]
  },
  {
   "cell_type": "code",
   "execution_count": null,
   "metadata": {
    "execution": {
     "iopub.execute_input": "2022-03-16T11:34:31.101361Z",
     "iopub.status.busy": "2022-03-16T11:34:31.100644Z",
     "iopub.status.idle": "2022-03-16T11:34:53.734382Z",
     "shell.execute_reply": "2022-03-16T11:34:53.733676Z",
     "shell.execute_reply.started": "2022-03-16T11:34:31.10132Z"
    }
   },
   "outputs": [],
   "source": [
    "final.evaluate(images_test, ages_test)"
   ]
  },
  {
   "cell_type": "code",
   "execution_count": null,
   "metadata": {
    "execution": {
     "iopub.execute_input": "2022-03-16T08:45:28.733346Z",
     "iopub.status.busy": "2022-03-16T08:45:28.733072Z",
     "iopub.status.idle": "2022-03-16T08:45:28.985231Z",
     "shell.execute_reply": "2022-03-16T08:45:28.984534Z",
     "shell.execute_reply.started": "2022-03-16T08:45:28.733296Z"
    }
   },
   "outputs": [],
   "source": [
    "idx = 48\n",
    "plt.imshow(images_test[idx])\n",
    "print(ages_test[idx])"
   ]
  },
  {
   "cell_type": "code",
   "execution_count": null,
   "metadata": {
    "execution": {
     "iopub.execute_input": "2022-03-16T08:45:47.262474Z",
     "iopub.status.busy": "2022-03-16T08:45:47.261872Z",
     "iopub.status.idle": "2022-03-16T08:45:47.323601Z",
     "shell.execute_reply": "2022-03-16T08:45:47.322784Z",
     "shell.execute_reply.started": "2022-03-16T08:45:47.262435Z"
    }
   },
   "outputs": [],
   "source": [
    "y = final.predict(images_test[50:51])\n",
    "print(y)"
   ]
  },
  {
   "cell_type": "code",
   "execution_count": null,
   "metadata": {
    "execution": {
     "iopub.execute_input": "2022-03-16T08:46:18.841999Z",
     "iopub.status.busy": "2022-03-16T08:46:18.841741Z",
     "iopub.status.idle": "2022-03-16T08:46:19.581633Z",
     "shell.execute_reply": "2022-03-16T08:46:19.58088Z",
     "shell.execute_reply.started": "2022-03-16T08:46:18.841972Z"
    }
   },
   "outputs": [],
   "source": [
    "final.save('model.h5')"
   ]
  },
  {
   "cell_type": "code",
   "execution_count": null,
   "metadata": {},
   "outputs": [],
   "source": []
  }
 ],
 "metadata": {
  "kernelspec": {
   "display_name": "Python 3 (ipykernel)",
   "language": "python",
   "name": "python3"
  },
  "language_info": {
   "codemirror_mode": {
    "name": "ipython",
    "version": 3
   },
   "file_extension": ".py",
   "mimetype": "text/x-python",
   "name": "python",
   "nbconvert_exporter": "python",
   "pygments_lexer": "ipython3",
   "version": "3.9.7"
  }
 },
 "nbformat": 4,
 "nbformat_minor": 4
}
